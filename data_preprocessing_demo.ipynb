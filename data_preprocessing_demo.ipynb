{
 "cells": [
  {
   "cell_type": "markdown",
   "id": "78b72b4b",
   "metadata": {},
   "source": [
    "# Data Pre-processing Techniques\n",
    "This notebook demonstrates various data pre-processing techniques using a demo dataset."
   ]
  },
  {
   "cell_type": "code",
   "execution_count": null,
   "id": "81cc0bbf",
   "metadata": {},
   "outputs": [],
   "source": [
    "import pandas as pd\n",
    "\n",
    "# Load dataset\n",
    "df = pd.read_csv('demo_dataset.csv', parse_dates=['Signup Date'])\n",
    "df.head()\n"
   ]
  },
  {
   "cell_type": "markdown",
   "id": "ad39aa16",
   "metadata": {},
   "source": [
    "## Outlier Detection"
   ]
  },
  {
   "cell_type": "code",
   "execution_count": null,
   "id": "c9dfb5a9",
   "metadata": {},
   "outputs": [],
   "source": [
    "import seaborn as sns\n",
    "import matplotlib.pyplot as plt\n",
    "\n",
    "# Visualize outliers in income\n",
    "sns.boxplot(x=df['Income'])\n",
    "plt.title('Income Outlier Detection')\n",
    "plt.show()\n"
   ]
  },
  {
   "cell_type": "markdown",
   "id": "6f23d803",
   "metadata": {},
   "source": [
    "## Normalization vs Standardization"
   ]
  },
  {
   "cell_type": "code",
   "execution_count": null,
   "id": "1e298b29",
   "metadata": {},
   "outputs": [],
   "source": [
    "from sklearn.preprocessing import MinMaxScaler, StandardScaler\n",
    "\n",
    "scaler_norm = MinMaxScaler()\n",
    "scaler_std = StandardScaler()\n",
    "\n",
    "df['Income_Norm'] = scaler_norm.fit_transform(df[['Income']])\n",
    "df['Income_Std'] = scaler_std.fit_transform(df[['Income']])\n",
    "df[['Income', 'Income_Norm', 'Income_Std']]\n"
   ]
  },
  {
   "cell_type": "markdown",
   "id": "8936788f",
   "metadata": {},
   "source": [
    "## Encoding Categorical Variables"
   ]
  },
  {
   "cell_type": "code",
   "execution_count": null,
   "id": "be961269",
   "metadata": {},
   "outputs": [],
   "source": [
    "from sklearn.preprocessing import LabelEncoder\n",
    "\n",
    "# Label Encoding\n",
    "le = LabelEncoder()\n",
    "df['Gender_Label'] = le.fit_transform(df['Gender'])\n",
    "\n",
    "# One-Hot Encoding\n",
    "df_encoded = pd.get_dummies(df, columns=['Purchased'], drop_first=True)\n",
    "df_encoded.head()\n"
   ]
  },
  {
   "cell_type": "markdown",
   "id": "773f890d",
   "metadata": {},
   "source": [
    "## Feature Scaling, Polynomial Features, and Interaction Terms"
   ]
  },
  {
   "cell_type": "code",
   "execution_count": null,
   "id": "a2fea231",
   "metadata": {},
   "outputs": [],
   "source": [
    "from sklearn.preprocessing import PolynomialFeatures\n",
    "\n",
    "# Example with Age and Income\n",
    "poly = PolynomialFeatures(degree=2, interaction_only=True, include_bias=False)\n",
    "poly_features = poly.fit_transform(df[['Age', 'Income']])\n",
    "poly_df = pd.DataFrame(poly_features, columns=poly.get_feature_names_out(['Age', 'Income']))\n",
    "df = df.join(poly_df)\n",
    "df.head()\n"
   ]
  },
  {
   "cell_type": "markdown",
   "id": "189cb522",
   "metadata": {},
   "source": [
    "## Handling Time Series/Date Features"
   ]
  },
  {
   "cell_type": "code",
   "execution_count": null,
   "id": "e8fb1f74",
   "metadata": {},
   "outputs": [],
   "source": [
    "# Extracting features from Signup Date\n",
    "df['Signup_Month'] = df['Signup Date'].dt.month\n",
    "df['Signup_Weekday'] = df['Signup Date'].dt.weekday\n",
    "df[['Signup Date', 'Signup_Month', 'Signup_Weekday']]\n"
   ]
  }
 ],
 "metadata": {},
 "nbformat": 4,
 "nbformat_minor": 5
}
